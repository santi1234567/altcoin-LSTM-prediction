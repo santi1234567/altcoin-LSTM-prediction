{
 "cells": [
  {
   "cell_type": "code",
   "execution_count": 18,
   "metadata": {},
   "outputs": [],
   "source": [
    "coin_api_id = \"yearn-finance\"\n",
    "coin_symbol = \"YFI\""
   ]
  },
  {
   "cell_type": "code",
   "execution_count": 19,
   "metadata": {},
   "outputs": [
    {
     "name": "stdout",
     "output_type": "stream",
     "text": [
      "Hola\n",
      "Hola\n",
      "Rate limited. New limit=4\n",
      "Hola\n"
     ]
    }
   ],
   "source": [
    "import requests\n",
    "import time\n",
    "timestamp_start = 1641006000\n",
    "timestamp_end = 1672542000\n",
    "points = 365*24\n",
    "timestamp_step = (timestamp_end-timestamp_start)/points\n",
    "btc_price = []\n",
    "btc_market_cap = []\n",
    "btc_total_volume = []\n",
    "\n",
    "coin_price = []\n",
    "coin_market_cap = []\n",
    "coin_total_volume = []\n",
    "\n",
    "eth_price = []\n",
    "eth_market_cap = []\n",
    "eth_total_volume = []\n",
    "\n",
    "timestamps = []\n",
    "\n",
    "api_call_cooldown = 4  # seconds\n",
    "\n",
    "current_timestamp = timestamp_start\n",
    "for i in range(1, math.ceil((timestamp_end-timestamp_start)/86400/90)):\n",
    "    next_timestamp = timestamp_start+i*90*86400\n",
    "    response_btc = requests.get('https://api.coingecko.com/api/v3/coins/bitcoin/market_chart/range?vs_currency=usd&from='+str(\n",
    "        current_timestamp)+'&to='+str(next_timestamp)).json()\n",
    "    response_eth = requests.get('https://api.coingecko.com/api/v3/coins/ethereum/market_chart/range?vs_currency=usd&from='+str(\n",
    "        current_timestamp)+'&to='+str(next_timestamp)).json()\n",
    "    response_coin = requests.get('https://api.coingecko.com/api/v3/coins/'+coin_api_id+'/market_chart/range?vs_currency=usd&from='+str(\n",
    "        current_timestamp)+'&to='+str(next_timestamp)).json()\n",
    "\n",
    "    if not \"prices\" in response_btc or not \"prices\" in response_eth or not \"prices\" in response_coin:\n",
    "        i -= 1\n",
    "        api_call_cooldown += 1\n",
    "        print(\"Rate limited. New limit=\"+str(api_call_cooldown))\n",
    "        time.sleep(65)\n",
    "    else:\n",
    "        print(\"Hola\")\n",
    "        btc_price += (response_btc['prices'])\n",
    "        btc_market_cap += (response_btc['market_caps'])\n",
    "        btc_total_volume += (response_btc['total_volumes'])\n",
    "\n",
    "        eth_price += (response_eth['prices'])\n",
    "        eth_market_cap += (response_eth['market_caps'])\n",
    "        eth_total_volume += (response_eth['total_volumes'])\n",
    "\n",
    "        coin_price += (response_coin['prices'])\n",
    "        coin_market_cap += (response_coin['market_caps'])\n",
    "        coin_total_volume += (response_coin['total_volumes'])\n",
    "\n",
    "        current_timestamp = next_timestamp\n",
    "        time.sleep(api_call_cooldown)\n"
   ]
  },
  {
   "cell_type": "code",
   "execution_count": 30,
   "metadata": {},
   "outputs": [],
   "source": [
    "#Detecting conflicting points provided by API\n",
    "for i in range(0, max([len(btc_price),len(eth_price),len(coin_price)])):\n",
    "    if abs(coin_price[i][0] - eth_price[i][0])>3000000:\n",
    "        print(i)\n",
    "        print(coin_price[i][0])\n",
    "        \n",
    "        print(eth_price[i][0])\n",
    "        #coin_price.insert(i,[eth_price[i][0],(coin_price[i-1][1]+coin_price[i][1])/2])\n",
    "        #print(coin_price[i])\n",
    "        \n",
    "for i in range(0, max([len(btc_price),len(eth_price),len(coin_price)])):\n",
    "    if abs(coin_price[i][0] - btc_price[i][0])>3000000:\n",
    "        print(i)\n",
    "        print(coin_price[i][0])\n",
    "        \n",
    "        print(btc_price[i][0])\n",
    "        #coin_price.insert(i,[eth_price[i][0],(coin_price[i-1][1]+coin_price[i][1])/2])\n",
    "        #print(coin_price[i])\n",
    "        \n",
    "for i in range(0, max([len(btc_price),len(eth_price),len(coin_price)])):\n",
    "    if abs(btc_price[i][0] - eth_price[i][0])>3000000:\n",
    "        print(i)\n",
    "        print(btc_price[i][0])\n",
    "        \n",
    "        print(eth_price[i][0])\n",
    "        #coin_price.insert(i,[eth_price[i][0],(coin_price[i-1][1]+coin_price[i][1])/2])\n",
    "        #print(coin_price[i])"
   ]
  },
  {
   "cell_type": "code",
   "execution_count": 22,
   "metadata": {},
   "outputs": [],
   "source": [
    "#Removing conflicting points provided by API\n",
    "\n",
    "del btc_price[749]\n",
    "del btc_market_cap[749]\n",
    "del btc_total_volume[749]\n",
    "\n",
    "del eth_price[749]\n",
    "del eth_market_cap[749]\n",
    "del eth_total_volume[749]\n",
    "del btc_price[1662]\n",
    "del btc_market_cap[1662]\n",
    "del btc_total_volume[1662]\n",
    "\n",
    "del eth_price[1662]\n",
    "del eth_market_cap[1662]\n",
    "del eth_total_volume[1662]\n",
    "del coin_price[2111]\n",
    "del coin_market_cap[2111]\n",
    "del coin_total_volume[2111]\n",
    "del btc_price[2111]\n",
    "del btc_market_cap[2111]\n",
    "del btc_total_volume[2111]"
   ]
  },
  {
   "cell_type": "code",
   "execution_count": 33,
   "metadata": {},
   "outputs": [
    {
     "name": "stdout",
     "output_type": "stream",
     "text": [
      "True\n"
     ]
    }
   ],
   "source": [
    "import requests\n",
    "import time\n",
    "import datetime\n",
    "import math\n",
    "import csv\n",
    "\n",
    "try:\n",
    "    with open(\"./datasets/data.csv\", 'w') as file:\n",
    "        file.truncate(0)\n",
    "        writer = csv.writer(file)\n",
    "        \n",
    "        writer.writerow([\"timestamp\", coin_symbol + \" price\", coin_symbol + \" market cap\", coin_symbol + \" total volume\",\n",
    "                        \"BTC price\", \"BTC market cap\", \"BTC total volume\", \"ETH price\", \"ETH market cap\", \"ETH total volume\"])\n",
    "\n",
    "\n",
    "\n",
    "        for i in range(0, max([len(btc_price),len(eth_price),len(coin_price)])):\n",
    "            timestamp = int(coin_price[i][0]/1000) # remove ms\n",
    "            date_obj = datetime.datetime.fromtimestamp(timestamp)\n",
    "            writer.writerow([date_obj, coin_price[i][1], coin_market_cap[i][1], coin_total_volume[i][1],\n",
    "                             btc_price[i][1], btc_market_cap[i][1], btc_total_volume[i][1], eth_price[i][1], eth_market_cap[i][1], eth_total_volume[i][1]])\n",
    "            \n",
    "except NameError:\n",
    "    print(NameError)\n",
    "    pass\n",
    "\n",
    "print(file.closed)\n"
   ]
  }
 ],
 "metadata": {
  "kernelspec": {
   "display_name": "venv",
   "language": "python",
   "name": "python3"
  },
  "language_info": {
   "codemirror_mode": {
    "name": "ipython",
    "version": 3
   },
   "file_extension": ".py",
   "mimetype": "text/x-python",
   "name": "python",
   "nbconvert_exporter": "python",
   "pygments_lexer": "ipython3",
   "version": "3.10.9"
  },
  "orig_nbformat": 4,
  "vscode": {
   "interpreter": {
    "hash": "5d9f3c28388b22cbdd305a9c557e44c994a9e4d99f9597b433328b41dc3aa314"
   }
  }
 },
 "nbformat": 4,
 "nbformat_minor": 2
}
